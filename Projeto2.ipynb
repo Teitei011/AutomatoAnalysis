{
 "cells": [
  {
   "cell_type": "code",
   "execution_count": 1,
   "metadata": {},
   "outputs": [],
   "source": [
    "%matplotlib inline\n",
    "#%matplotlib notebook\n",
    "\n",
    "import matplotlib.pyplot as plt\n",
    "from scipy.stats import entropy\n",
    "from scipy.fftpack import fft\n",
    "import scipy.signal as ss\n",
    "import networkx as nx\n",
    "import numpy as np\n",
    "import time\n",
    "\n"
   ]
  },
  {
   "cell_type": "markdown",
   "metadata": {},
   "source": [
    "<center><h1> Next Step Implementation </h1></center>"
   ]
  },
  {
   "cell_type": "code",
   "execution_count": 2,
   "metadata": {},
   "outputs": [],
   "source": [
    "# Next Step implementation CTD-22\n",
    "def next_step(probability_array):\n",
    "    i = 0                          \n",
    "\n",
    "    p = probability_array[0]             \n",
    "    r = np.random.random()\n",
    "\n",
    "    while (r > p):\n",
    "        i+=1 \n",
    "        p += probability_array[i]\n",
    "    return i\n"
   ]
  },
  {
   "cell_type": "markdown",
   "metadata": {},
   "source": [
    "<center><h1> Generator </h1></center>"
   ]
  },
  {
   "cell_type": "code",
   "execution_count": 3,
   "metadata": {},
   "outputs": [],
   "source": [
    "def generator(numbers_of_nodes, pattern_length, iterations, probability_array):    \n",
    "    frequency_data = []\n",
    "    automata_data = []\n",
    "    \n",
    "    # Interacao \n",
    "    for i in range(iterations):\n",
    "        automata_data_buffer = []\n",
    "        for i in range(pattern_length):\n",
    "            buffer_data = next_step(probability_array)\n",
    "            automata_data_buffer.append(buffer_data)\n",
    "        automata_data.append(automata_data_buffer)\n",
    "    \n",
    "    \n",
    "    return np.array(automata_data)\n",
    "    "
   ]
  },
  {
   "cell_type": "markdown",
   "metadata": {},
   "source": [
    "<center><h1> Plotting Functions </h1> </center>"
   ]
  },
  {
   "cell_type": "code",
   "execution_count": 4,
   "metadata": {},
   "outputs": [],
   "source": [
    "# Plotting functions\n",
    "\n",
    "\n",
    "def stem_plot(array):\n",
    "    x = np.linspace(0.1, len(array), len(array))\n",
    "    \n",
    "    plt.stem(x, array, use_line_collection=True)\n",
    "    plt.grid()\n",
    "    plt.show()\n",
    "    \n",
    "def square_wave_plot(array):                          \n",
    "    x = np.linspace(1, len(array), len(array))\n",
    "    plt.grid()\n",
    "    plt.plot(x, array[0], color=\"black\")\n",
    "    \n",
    "def bar_plot(array):\n",
    "    x = np.linspace(0.1, len(array), len(array))\n",
    "    ax = plt.axes()\n",
    "    # Setting the background color\n",
    "    ax.set_facecolor(\"blue\")\n",
    "    \n",
    "    plt.bar(x, array, color=\"yellow\")\n",
    "    \n",
    "\n",
    "def density_plot(frequency_data):\n",
    "    frequency_data = np.array(frequency_data)\n",
    "    frequency_data.flatten()\n",
    "    \n",
    "    \n",
    "    plt.plot(frequency_data)\n",
    "    plt.savefig(\"casa.png\")"
   ]
  },
  {
   "cell_type": "markdown",
   "metadata": {},
   "source": [
    "<center><h1> Data treatment </h1></center>"
   ]
  },
  {
   "cell_type": "code",
   "execution_count": 5,
   "metadata": {},
   "outputs": [],
   "source": [
    "# DATA ANALYSIS \n",
    "\n",
    "def frequency_analysis(numbers_of_nodes, array):    \n",
    "#     frequency_data = np.bincount(automata_data)\n",
    "    frequency_data = []\n",
    "    \n",
    "    for i in range(numbers_of_nodes):\n",
    "        contador = 0\n",
    "        \n",
    "        for j in range(len(array)):\n",
    "            if (array[j] == i):\n",
    "                contador +=1\n",
    "                \n",
    "        frequency_data.append(contador)\n",
    "    \n",
    "    output = []\n",
    "    for i in range(len(frequency_data)):\n",
    "        output.append(frequency_data[i] / len(array))\n",
    "    return output\n",
    "\n",
    "\n",
    "# DATA ANALYSIS \n",
    "def frequency_split(array, number_of_nodes):\n",
    "    split_frequency = []\n",
    "    for i in range(number_of_nodes):\n",
    "        buffer = []\n",
    "        for j in range(len(array[0])):\n",
    "            if (array[0][j] == i):\n",
    "                buffer.append(1)\n",
    "            else:\n",
    "                buffer.append(0)\n",
    "        split_frequency.append(buffer)\n",
    "\n",
    "    return split_frequency\n",
    "\n",
    "def entropy_of_array(array):\n",
    "    return entropy(array)\n",
    "\n",
    "def evenness_of_array(array):\n",
    "    return np.exp(entropy_of_array(array))\n"
   ]
  },
  {
   "cell_type": "markdown",
   "metadata": {},
   "source": [
    "<center><h2> Burst-Based Features </h2></center>"
   ]
  },
  {
   "cell_type": "code",
   "execution_count": 6,
   "metadata": {},
   "outputs": [],
   "source": [
    "# SEGUNDO PROJETO \n",
    "\n",
    "\n",
    "# Burst-Based Futures # 1/5\n",
    "def scan_bursts(L, M):\n",
    "    i = 1\n",
    "    Ls = []\n",
    "    \n",
    "    M -= 1 # Como o array começa do zero, tem que arrancar uma unidade\n",
    "    L = np.array(L[0])\n",
    "\n",
    "    while (i <= M):\n",
    "        if (L[i] == 1): # Burst detected\n",
    "            i0 = 1\n",
    "            \n",
    "            while (L[i] == 1 and i < M):\n",
    "                i+=1\n",
    "            \n",
    "            if (i == M and L[i] == 1):\n",
    "                i = M + 1\n",
    "\n",
    "            bs = i - i0\n",
    "\n",
    "            if (bs > 0):\n",
    "                Ls.append(bs)\n",
    "        i+=1\n",
    "    return np.array(Ls)\n",
    "    \n"
   ]
  },
  {
   "cell_type": "markdown",
   "metadata": {},
   "source": [
    "<center><h2> Scan InterSymbols </h2></center>\n"
   ]
  },
  {
   "cell_type": "code",
   "execution_count": 7,
   "metadata": {},
   "outputs": [],
   "source": [
    "# Scan Inter Symbols          # 2/5\n",
    "def scan_inter_symbols(L, M):\n",
    "    i = 1\n",
    "    Ls = []\n",
    "\n",
    "    L = np.array(L)\n",
    "    L = L[0]\n",
    "    M -= 1\n",
    "    \n",
    "    while (i < M): # Scan Signal\n",
    "        if (L[i] == 1): # Possible intersymb, detected, scan it\n",
    "            i0 = 1\n",
    "            i += 1\n",
    "            bs = 0\n",
    "\n",
    "            while(L[i] == 0 and i < M):\n",
    "                i += 1\n",
    "                \n",
    "            if (i == M and L[i] == 1):\n",
    "                bs = M - i0\n",
    "            if (i < M and L[i] == 1):\n",
    "                bs = i - i0\n",
    "            if (bs > 0):\n",
    "                Ls.append(bs)\n",
    "                i -=1\n",
    "        i+=1\n",
    "\n",
    "    return np.array(Ls)\n",
    "            \n"
   ]
  },
  {
   "cell_type": "markdown",
   "metadata": {},
   "source": [
    "<h1><center>Detrended Fluctuation Analysis (DFA)</h1></center> "
   ]
  },
  {
   "cell_type": "code",
   "execution_count": 8,
   "metadata": {},
   "outputs": [],
   "source": [
    "\n",
    "def calc_rms(x, scale):\n",
    "    shape = (x.shape[0]//scale, scale)\n",
    "    X = np.lib.stride_tricks.as_strided(x,shape=shape)\n",
    "    scale_ax = np.arange(scale)\n",
    "    rms = np.zeros(X.shape[0])\n",
    "\n",
    "    for e, xcut in enumerate(X):\n",
    "        coeff = np.polyfit(scale_ax, xcut, 1)\n",
    "        xfit = np.polyval(coeff, scale_ax)\n",
    "        rms[e] = np.sqrt(np.mean((xcut-xfit)**2))\n",
    "    return rms\n",
    "\n",
    "def dfa(x, scale_lim=[5,9], scale_dens=0.25, show=False):\n",
    "    \n",
    "    y = np.cumsum(x - np.mean(x))\n",
    "    scales = (2**np.arange(scale_lim[0], scale_lim[1], scale_dens)).astype(np.int)\n",
    "    fluct = np.zeros(len(scales))\n",
    "    \n",
    "    for e, sc in enumerate(scales):\n",
    "        fluct[e] = np.sqrt(np.mean(calc_rms(y, sc)**2))\n",
    "        \n",
    "    coeff = np.polyfit(np.log2(scales), np.log2(fluct), 1)\n",
    "    \n",
    "    if show:\n",
    "        fluctfit = 2**np.polyval(coeff,np.log2(scales))\n",
    "        plt.loglog(scales, fluct, 'bo')\n",
    "        plt.loglog(scales, fluctfit, 'r', label=r'$\\alpha$ = %0.2f'%coeff[0])\n",
    "        plt.title('DFA')\n",
    "        plt.xlabel(r'$\\log_{10}$(time window)')\n",
    "        plt.ylabel(r'$\\log_{10}$<F(t)>')\n",
    "        plt.legend()\n",
    "        plt.show()\n",
    "    return scales, fluct, coeff[0]\n",
    "\n",
    "def dfa_manager(array):\n",
    "    array = np.abs(ss.hilbert(array))\n",
    "    scales, fluct, alpha = dfa(array, show=1)\n",
    "#     print(\"\\nDFA\\n\")\n",
    "#     print(\"Scales: {}\".format(scales))\n",
    "#     print(\"Fluctuations: {}\" .format(fluct))\n",
    "#     print(\"DFA exponent: {}\".format(alpha))\n",
    "\n",
    "    return alpha\n",
    "\n"
   ]
  },
  {
   "cell_type": "markdown",
   "metadata": {},
   "source": [
    "<center><h1> Fourier Transformation </h1></center>"
   ]
  },
  {
   "cell_type": "code",
   "execution_count": 9,
   "metadata": {},
   "outputs": [],
   "source": [
    "def fourier_transformation(L):\n",
    "    return fft(L[0])\n"
   ]
  },
  {
   "cell_type": "markdown",
   "metadata": {},
   "source": [
    "<center><h1> Grafos </h1></center>"
   ]
  },
  {
   "cell_type": "code",
   "execution_count": 10,
   "metadata": {},
   "outputs": [],
   "source": [
    "def visibility(L, M):\n",
    "    L = L[0]\n",
    "    A = np.zeros((M, M))\n",
    "    for j in range(2, M):\n",
    "        for i in range(1, j - 1):\n",
    "            flag = 1\n",
    "            k = i + 1\n",
    "            visibility\n",
    "            while (k<= j - 1 and flag == 1):\n",
    "                aux = L[j] + (L[i] - L[j]) * (j - k) / (j - i)\n",
    "                if (L[k] >= aux):\n",
    "                    flag = 0\n",
    "\n",
    "                k+=1\n",
    "            \n",
    "            if (flag == 1):\n",
    "                A[i][j] = 1\n",
    "                A[j][i] = 1\n",
    "\n",
    "    return A\n",
    "\n",
    "\n",
    "def graph_analysis(M):\n",
    "    return nx.from_numpy_matrix(M)"
   ]
  },
  {
   "cell_type": "markdown",
   "metadata": {},
   "source": [
    "<center><h1> Main </h1></center>"
   ]
  },
  {
   "cell_type": "code",
   "execution_count": 11,
   "metadata": {
    "scrolled": true
   },
   "outputs": [],
   "source": [
    "def main(numbers_of_nodes, pattern_length, probability_array):\n",
    "    \n",
    "    print(\"----------------------------------------------------\")\n",
    "    print(\"\\nProbability Array: {}\".format(probability_array))\n",
    "    \n",
    "    \n",
    "    # Generator \n",
    "    automata_data = generator(numbers_of_nodes, pattern_length, 1, probability_array)\n",
    "    \n",
    "    split_frequency = frequency_split(automata_data, numbers_of_nodes)\n",
    "    \n",
    "#     #Burst\n",
    "    print(\"\\n\\tBurst\")\n",
    "    burst_analysis = scan_bursts(split_frequency, pattern_length) # TODO: Por enquanto vai ser só com essa frequencia\n",
    "    \n",
    "    print(\"Mean: {}\" .format(burst_analysis.mean()))\n",
    "    print(\"Std: {}\".format(burst_analysis.std()))\n",
    "    print(\"Entropy: {}\".format(entropy_of_array(burst_analysis)))\n",
    "    print(\"Evenness: {}\".format(evenness_of_array(burst_analysis)))\n",
    "    \n",
    "    # InterSymbols\n",
    "    print(\"\\n\\tInterSymbols\")\n",
    "    intersymbols_analysis = scan_inter_symbols(split_frequency, pattern_length)\n",
    "    \n",
    "    print(\"Mean: {}\" .format(intersymbols_analysis.mean()))\n",
    "    print(\"Std: {}\".format(intersymbols_analysis.std()))\n",
    "    print(\"Entropy: {}\".format(entropy_of_array(intersymbols_analysis)))\n",
    "    print(\"Evenness: {}\".format(evenness_of_array(intersymbols_analysis)))\n",
    "    \n",
    "    # Grafos\n",
    "    print(\"\\n\\t Graph\")\n",
    "    G = graph_analysis(visibility(split_frequency, pattern_length))\n",
    "    \n",
    "    \n",
    "    print(\"Mean: {}\" .format(np.array(nx.degree(G)).mean()))\n",
    "    print(\"Std: {}\".format(np.array(nx.degree(G)).std()))\n",
    "    print(\"Clustering coefficient: {}\".format(nx.average_clustering(G)))\n",
    "\n",
    "    \n",
    "    # DFA\n",
    "    print(\"\\n\\tDFA\")\n",
    "    dfa_analysis = dfa_manager(split_frequency)\n",
    "    print(\"Alpha Value: {}\".format(dfa_analysis))\n",
    "\n"
   ]
  },
  {
   "cell_type": "markdown",
   "metadata": {},
   "source": [
    "<center><h1> Projeto 2</h1></center>\n",
    "\n",
    "<p> Os automatos que serão usados para a realização das analises terão as caracteristicas descritas abaixo:</p>\n",
    "\n",
    "<ul>\n",
    "    <li> <b>(0.1, 0.9)</b> </li>\n",
    "    <li> <b>(0.2, 0.8)</b> </li>\n",
    "    <li> <b>(0.5, 0.5)</b> </li>\n",
    "</ul>\n",
    "    \n",
    "    \n",
    "<p> Já os métodos para a analise são: </p>\n",
    "\n",
    "<ul>\n",
    "    <li> Burst Scan </li>\n",
    "    <li> Scan InterSymbol </li>\n",
    "    <li> Fourier </li>\n",
    "    <li> Graph Analysis </li>\n",
    "    <li> DFA </li>\n",
    "</ul>\n",
    "    \n"
   ]
  },
  {
   "cell_type": "code",
   "execution_count": 12,
   "metadata": {
    "scrolled": false
   },
   "outputs": [
    {
     "name": "stdout",
     "output_type": "stream",
     "text": [
      "----------------------------------------------------\n",
      "\n",
      "Probability Array: [0.1, 0.9]\n",
      "\n",
      "\tBurst\n",
      "Mean: 1255.868932038835\n",
      "Std: 719.8620939301501\n",
      "Entropy: 5.1377335896876275\n",
      "Evenness: 170.3292944631143\n",
      "\n",
      "\tInterSymbols\n",
      "Mean: 1237.5168067226891\n",
      "Std: 720.9786807672577\n",
      "Entropy: 5.275896818565254\n",
      "Evenness: 195.5657849175275\n",
      "\n",
      "\t Graph\n",
      "Mean: 626.47\n",
      "Std: 805.3600347049759\n",
      "Clustering coefficient: 0.7554293041249178\n",
      "\n",
      "\tDFA\n"
     ]
    },
    {
     "data": {
      "image/png": "[encoded data removed]",
      "text/plain": [
       "<Figure size 432x288 with 1 Axes>"
      ]
     },
     "metadata": {
      "needs_background": "light"
     },
     "output_type": "display_data"
    },
    {
     "name": "stdout",
     "output_type": "stream",
     "text": [
      "Alpha Value: 0.6910473440154371\n",
      "----------------------------------------------------\n",
      "\n",
      "Probability Array: [0.2, 0.8]\n",
      "\n",
      "\tBurst\n",
      "Mean: 1286.7099236641222\n",
      "Std: 740.6264024584658\n",
      "Entropy: 5.779003255768792\n",
      "Evenness: 323.4366460856987\n",
      "\n",
      "\tInterSymbols\n",
      "Mean: 1283.6133056133056\n",
      "Std: 726.2124768180194\n",
      "Entropy: 5.989019339997452\n",
      "Evenness: 399.0231119892806\n",
      "\n",
      "\t Graph\n",
      "Mean: 626.2052\n",
      "Std: 805.5561913938469\n",
      "Clustering coefficient: 0.5484575808032681\n",
      "\n",
      "\tDFA\n"
     ]
    },
    {
     "data": {
      "image/png": "[encoded data removed]",
      "text/plain": [
       "<Figure size 432x288 with 1 Axes>"
      ]
     },
     "metadata": {
      "needs_background": "light"
     },
     "output_type": "display_data"
    },
    {
     "name": "stdout",
     "output_type": "stream",
     "text": [
      "Alpha Value: 0.6244193716496672\n",
      "----------------------------------------------------\n",
      "\n",
      "Probability Array: [0.5, 0.5]\n",
      "\n",
      "\tBurst\n",
      "Mean: 1237.650159744409\n",
      "Std: 714.5172596606814\n",
      "Entropy: 6.247753191428073\n",
      "Evenness: 516.8502555377215\n",
      "\n",
      "\tInterSymbols\n",
      "Mean: 1268.2986167615948\n",
      "Std: 718.8642449099594\n",
      "Entropy: 6.928564056771018\n",
      "Evenness: 1021.0267899685499\n",
      "\n",
      "\t Graph\n",
      "Mean: 625.5132\n",
      "Std: 806.0877497057998\n",
      "Clustering coefficient: 0.15744249084249082\n",
      "\n",
      "\tDFA\n"
     ]
    },
    {
     "data": {
      "image/png": "[encoded data removed]",
      "text/plain": [
       "<Figure size 432x288 with 1 Axes>"
      ]
     },
     "metadata": {
      "needs_background": "light"
     },
     "output_type": "display_data"
    },
    {
     "name": "stdout",
     "output_type": "stream",
     "text": [
      "Alpha Value: 0.45927025054494447\n",
      "Done!\n"
     ]
    }
   ],
   "source": [
    "if __name__ == \"__main__\":\n",
    "\n",
    "    pattern_length = 2500\n",
    "    \n",
    "    probability_matrix = [\n",
    "        [0.1, 0.9],\n",
    "        [0.2, 0.8],\n",
    "        [0.5, 0.5]\n",
    "    ]\n",
    "    \n",
    "    for i in range(len(probability_matrix)):\n",
    "        main(len(probability_matrix[i]), pattern_length, probability_matrix[i])\n",
    "        \n",
    "        \n",
    "    print(\"Done!\")"
   ]
  },
  {
   "cell_type": "code",
   "execution_count": null,
   "metadata": {},
   "outputs": [],
   "source": []
  },
  {
   "cell_type": "code",
   "execution_count": null,
   "metadata": {},
   "outputs": [],
   "source": []
  },
  {
   "cell_type": "code",
   "execution_count": null,
   "metadata": {},
   "outputs": [],
   "source": []
  }
 ],
 "metadata": {
  "kernelspec": {
   "display_name": "Python 3",
   "language": "python",
   "name": "python3"
  },
  "language_info": {
   "codemirror_mode": {
    "name": "ipython",
    "version": 3
   },
   "file_extension": ".py",
   "mimetype": "text/x-python",
   "name": "python",
   "nbconvert_exporter": "python",
   "pygments_lexer": "ipython3",
   "version": "3.8.3"
  }
 },
 "nbformat": 4,
 "nbformat_minor": 2
}
